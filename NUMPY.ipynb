{
 "cells": [
  {
   "cell_type": "code",
   "execution_count": 2,
   "id": "5c4e8a69",
   "metadata": {},
   "outputs": [],
   "source": [
    "# python library ...numpy array is very faster then list .\n",
    "#bcz its stored in contines memory."
   ]
  },
  {
   "cell_type": "code",
   "execution_count": 3,
   "id": "23c5078f",
   "metadata": {},
   "outputs": [
    {
     "name": "stdout",
     "output_type": "stream",
     "text": [
      "Requirement already satisfied: Numpy in c:\\users\\adarsha\\anaconda3\\lib\\site-packages (1.20.3)\n"
     ]
    }
   ],
   "source": [
    "!pip install Numpy"
   ]
  },
  {
   "cell_type": "code",
   "execution_count": 2,
   "id": "826e9f28",
   "metadata": {},
   "outputs": [],
   "source": [
    "import numpy as np"
   ]
  },
  {
   "cell_type": "code",
   "execution_count": 5,
   "id": "d5518f44",
   "metadata": {},
   "outputs": [],
   "source": [
    "list=[1,2,3,4]"
   ]
  },
  {
   "cell_type": "code",
   "execution_count": 6,
   "id": "1512f495",
   "metadata": {},
   "outputs": [
    {
     "data": {
      "text/plain": [
       "list"
      ]
     },
     "execution_count": 6,
     "metadata": {},
     "output_type": "execute_result"
    }
   ],
   "source": [
    "type(list)"
   ]
  },
  {
   "cell_type": "code",
   "execution_count": 7,
   "id": "b4edbd87",
   "metadata": {},
   "outputs": [],
   "source": [
    "arr=np.array(list)"
   ]
  },
  {
   "cell_type": "code",
   "execution_count": 8,
   "id": "c1a6dab3",
   "metadata": {},
   "outputs": [
    {
     "data": {
      "text/plain": [
       "array([1, 2, 3, 4])"
      ]
     },
     "execution_count": 8,
     "metadata": {},
     "output_type": "execute_result"
    }
   ],
   "source": [
    "arr"
   ]
  },
  {
   "cell_type": "code",
   "execution_count": 9,
   "id": "b245925a",
   "metadata": {},
   "outputs": [
    {
     "data": {
      "text/plain": [
       "numpy.ndarray"
      ]
     },
     "execution_count": 9,
     "metadata": {},
     "output_type": "execute_result"
    }
   ],
   "source": [
    "type(arr)"
   ]
  },
  {
   "cell_type": "code",
   "execution_count": 10,
   "id": "c31f9d71",
   "metadata": {},
   "outputs": [],
   "source": [
    "z=np.ones(10)"
   ]
  },
  {
   "cell_type": "code",
   "execution_count": 11,
   "id": "57cf766d",
   "metadata": {},
   "outputs": [
    {
     "data": {
      "text/plain": [
       "array([1., 1., 1., 1., 1., 1., 1., 1., 1., 1.])"
      ]
     },
     "execution_count": 11,
     "metadata": {},
     "output_type": "execute_result"
    }
   ],
   "source": [
    "z"
   ]
  },
  {
   "cell_type": "code",
   "execution_count": 12,
   "id": "5d8f8a13",
   "metadata": {},
   "outputs": [],
   "source": [
    "a=np.array([1,2,3,4])"
   ]
  },
  {
   "cell_type": "code",
   "execution_count": 13,
   "id": "7a400425",
   "metadata": {},
   "outputs": [
    {
     "data": {
      "text/plain": [
       "array([1, 2, 3, 4])"
      ]
     },
     "execution_count": 13,
     "metadata": {},
     "output_type": "execute_result"
    }
   ],
   "source": [
    "a\n"
   ]
  },
  {
   "cell_type": "code",
   "execution_count": 16,
   "id": "e9139e1d",
   "metadata": {},
   "outputs": [
    {
     "data": {
      "text/plain": [
       "' but it stored like \\n1\\n2\\n3\\n4\\nlike this way as 4 ROWS'"
      ]
     },
     "execution_count": 16,
     "metadata": {},
     "output_type": "execute_result"
    }
   ],
   "source": [
    "\"\"\" but it stored like \n",
    "1\n",
    "2\n",
    "3\n",
    "4\n",
    "like this way as 4 ROWS\"\"\""
   ]
  },
  {
   "cell_type": "code",
   "execution_count": 17,
   "id": "05001f2f",
   "metadata": {},
   "outputs": [
    {
     "data": {
      "text/plain": [
       "4"
      ]
     },
     "execution_count": 17,
     "metadata": {},
     "output_type": "execute_result"
    }
   ],
   "source": [
    "a.size"
   ]
  },
  {
   "cell_type": "code",
   "execution_count": 20,
   "id": "b04d676e",
   "metadata": {},
   "outputs": [
    {
     "data": {
      "text/plain": [
       "1"
      ]
     },
     "execution_count": 20,
     "metadata": {},
     "output_type": "execute_result"
    }
   ],
   "source": [
    "a.ndim  # it give the dimensions\n"
   ]
  },
  {
   "cell_type": "code",
   "execution_count": 21,
   "id": "0b108bb8",
   "metadata": {},
   "outputs": [
    {
     "data": {
      "text/plain": [
       "(4,)"
      ]
     },
     "execution_count": 21,
     "metadata": {},
     "output_type": "execute_result"
    }
   ],
   "source": [
    "a.shape  #it give the no of rows and colomns"
   ]
  },
  {
   "cell_type": "markdown",
   "id": "37c27a82",
   "metadata": {},
   "source": [
    "# 2D ARRAY"
   ]
  },
  {
   "cell_type": "code",
   "execution_count": 96,
   "id": "d18425bd",
   "metadata": {},
   "outputs": [
    {
     "data": {
      "text/plain": [
       "array([[1, 2, 3, 4],\n",
       "       [5, 6, 7, 8],\n",
       "       [1, 4, 5, 6]])"
      ]
     },
     "execution_count": 96,
     "metadata": {},
     "output_type": "execute_result"
    }
   ],
   "source": [
    "b=np.array([[1, 2, 3, 4],[5,6,7,8],[1,4,5,6]])\n",
    "b"
   ]
  },
  {
   "cell_type": "code",
   "execution_count": 28,
   "id": "e41c29ef",
   "metadata": {},
   "outputs": [
    {
     "data": {
      "text/plain": [
       "2"
      ]
     },
     "execution_count": 28,
     "metadata": {},
     "output_type": "execute_result"
    }
   ],
   "source": [
    "b.ndim"
   ]
  },
  {
   "cell_type": "code",
   "execution_count": 29,
   "id": "07ed4b34",
   "metadata": {},
   "outputs": [
    {
     "data": {
      "text/plain": [
       "12"
      ]
     },
     "execution_count": 29,
     "metadata": {},
     "output_type": "execute_result"
    }
   ],
   "source": [
    "b.size"
   ]
  },
  {
   "cell_type": "code",
   "execution_count": 30,
   "id": "bca62af6",
   "metadata": {},
   "outputs": [
    {
     "data": {
      "text/plain": [
       "(3, 4)"
      ]
     },
     "execution_count": 30,
     "metadata": {},
     "output_type": "execute_result"
    }
   ],
   "source": [
    "b.shape"
   ]
  },
  {
   "cell_type": "markdown",
   "id": "f39b04bc",
   "metadata": {},
   "source": [
    "# 3D ARRAY"
   ]
  },
  {
   "cell_type": "code",
   "execution_count": 102,
   "id": "d1e2f57d",
   "metadata": {},
   "outputs": [
    {
     "data": {
      "text/plain": [
       "array([[[1, 2],\n",
       "        [3, 4]],\n",
       "\n",
       "       [[5, 6],\n",
       "        [7, 8]],\n",
       "\n",
       "       [[1, 4],\n",
       "        [5, 6]]])"
      ]
     },
     "execution_count": 102,
     "metadata": {},
     "output_type": "execute_result"
    }
   ],
   "source": [
    "\n",
    "s=b.reshape(3,2,2)\n",
    "s"
   ]
  },
  {
   "cell_type": "code",
   "execution_count": 103,
   "id": "be5c2b77",
   "metadata": {},
   "outputs": [
    {
     "data": {
      "text/plain": [
       "3"
      ]
     },
     "execution_count": 103,
     "metadata": {},
     "output_type": "execute_result"
    }
   ],
   "source": [
    "s.ndim"
   ]
  },
  {
   "cell_type": "code",
   "execution_count": 104,
   "id": "df81ebd2",
   "metadata": {},
   "outputs": [
    {
     "data": {
      "text/plain": [
       "(3, 2, 2)"
      ]
     },
     "execution_count": 104,
     "metadata": {},
     "output_type": "execute_result"
    }
   ],
   "source": [
    "s.shape"
   ]
  },
  {
   "cell_type": "markdown",
   "id": "7a8570dc",
   "metadata": {},
   "source": [
    "# indexing"
   ]
  },
  {
   "cell_type": "code",
   "execution_count": 44,
   "id": "e5c68ef8",
   "metadata": {},
   "outputs": [],
   "source": [
    "arr=np.array([1,2,3,4])"
   ]
  },
  {
   "cell_type": "code",
   "execution_count": 46,
   "id": "83e49e6b",
   "metadata": {},
   "outputs": [
    {
     "data": {
      "text/plain": [
       "2"
      ]
     },
     "execution_count": 46,
     "metadata": {},
     "output_type": "execute_result"
    }
   ],
   "source": [
    "arr[1] #1d arary"
   ]
  },
  {
   "cell_type": "code",
   "execution_count": 47,
   "id": "9ed347c2",
   "metadata": {},
   "outputs": [],
   "source": [
    "#2d array "
   ]
  },
  {
   "cell_type": "code",
   "execution_count": 48,
   "id": "07acfa7f",
   "metadata": {},
   "outputs": [],
   "source": [
    "a=np.array([[1,2,3],[2,3,4]])"
   ]
  },
  {
   "cell_type": "code",
   "execution_count": 49,
   "id": "ec0d35d8",
   "metadata": {},
   "outputs": [
    {
     "data": {
      "text/plain": [
       "array([[1, 2, 3],\n",
       "       [2, 3, 4]])"
      ]
     },
     "execution_count": 49,
     "metadata": {},
     "output_type": "execute_result"
    }
   ],
   "source": [
    "a"
   ]
  },
  {
   "cell_type": "code",
   "execution_count": 56,
   "id": "7b162544",
   "metadata": {},
   "outputs": [
    {
     "data": {
      "text/plain": [
       "4"
      ]
     },
     "execution_count": 56,
     "metadata": {},
     "output_type": "execute_result"
    }
   ],
   "source": [
    "a[1,2] # indexing from 0 to ... mind it"
   ]
  },
  {
   "cell_type": "raw",
   "id": "80e141e9",
   "metadata": {},
   "source": [
    "#LINSPACE   it wiil  give required numbers between specified numbers \n",
    "# ( start, end , range)"
   ]
  },
  {
   "cell_type": "code",
   "execution_count": 59,
   "id": "862cf711",
   "metadata": {},
   "outputs": [
    {
     "data": {
      "text/plain": [
       "array([1.        , 1.44444444, 1.88888889, 2.33333333, 2.77777778,\n",
       "       3.22222222, 3.66666667, 4.11111111, 4.55555556, 5.        ])"
      ]
     },
     "execution_count": 59,
     "metadata": {},
     "output_type": "execute_result"
    }
   ],
   "source": [
    "np.linspace(1,5,10)"
   ]
  },
  {
   "cell_type": "raw",
   "id": "43b1d1fa",
   "metadata": {},
   "source": [
    "# identity matrix "
   ]
  },
  {
   "cell_type": "code",
   "execution_count": 61,
   "id": "fa703e39",
   "metadata": {},
   "outputs": [
    {
     "data": {
      "text/plain": [
       "array([[1., 0., 0.],\n",
       "       [0., 1., 0.],\n",
       "       [0., 0., 1.]])"
      ]
     },
     "execution_count": 61,
     "metadata": {},
     "output_type": "execute_result"
    }
   ],
   "source": [
    "x=np.eye(3)\n",
    "x"
   ]
  },
  {
   "cell_type": "raw",
   "id": "991a5b4f",
   "metadata": {},
   "source": [
    "RANDOM NUMBERS PRINT"
   ]
  },
  {
   "cell_type": "code",
   "execution_count": 64,
   "id": "8526c7eb",
   "metadata": {},
   "outputs": [
    {
     "data": {
      "text/plain": [
       "array([2, 2, 2, 5, 4, 0, 5, 3, 4])"
      ]
     },
     "execution_count": 64,
     "metadata": {},
     "output_type": "execute_result"
    }
   ],
   "source": [
    "np.random.randint(0,6,9)"
   ]
  },
  {
   "cell_type": "code",
   "execution_count": 72,
   "id": "b439c1c4",
   "metadata": {},
   "outputs": [
    {
     "data": {
      "text/plain": [
       "array([[0.40934494, 0.78502688],\n",
       "       [0.64582759, 0.33754311]])"
      ]
     },
     "execution_count": 72,
     "metadata": {},
     "output_type": "execute_result"
    }
   ],
   "source": [
    "np.random.rand(2,2)   #priting random matrix"
   ]
  },
  {
   "cell_type": "code",
   "execution_count": 80,
   "id": "3d66c3dc",
   "metadata": {},
   "outputs": [
    {
     "data": {
      "text/plain": [
       "array([[1, 2, 3],\n",
       "       [2, 3, 4]])"
      ]
     },
     "execution_count": 80,
     "metadata": {},
     "output_type": "execute_result"
    }
   ],
   "source": [
    "# printing max and min values \n",
    "\n",
    "\n",
    "\n",
    "\n",
    "\n",
    "a"
   ]
  },
  {
   "cell_type": "code",
   "execution_count": 74,
   "id": "f380e15e",
   "metadata": {},
   "outputs": [
    {
     "data": {
      "text/plain": [
       "4"
      ]
     },
     "execution_count": 74,
     "metadata": {},
     "output_type": "execute_result"
    }
   ],
   "source": [
    "a.max()# max value"
   ]
  },
  {
   "cell_type": "code",
   "execution_count": 77,
   "id": "6bce54f9",
   "metadata": {},
   "outputs": [
    {
     "data": {
      "text/plain": [
       "5"
      ]
     },
     "execution_count": 77,
     "metadata": {},
     "output_type": "execute_result"
    }
   ],
   "source": [
    "a.argmax() # index of max value "
   ]
  },
  {
   "cell_type": "code",
   "execution_count": 79,
   "id": "c27f6857",
   "metadata": {},
   "outputs": [
    {
     "data": {
      "text/plain": [
       "1"
      ]
     },
     "execution_count": 79,
     "metadata": {},
     "output_type": "execute_result"
    }
   ],
   "source": [
    "a.min()"
   ]
  },
  {
   "cell_type": "raw",
   "id": "c8da0f53",
   "metadata": {},
   "source": [
    "# arange() it give the range values withn same difference btw them"
   ]
  },
  {
   "cell_type": "code",
   "execution_count": 108,
   "id": "1e24d37e",
   "metadata": {},
   "outputs": [],
   "source": [
    "a=np.arange(1,10,2)# here 2 is required diff btw them"
   ]
  },
  {
   "cell_type": "code",
   "execution_count": 109,
   "id": "ee3cc226",
   "metadata": {},
   "outputs": [
    {
     "data": {
      "text/plain": [
       "array([1, 3, 5, 7, 9])"
      ]
     },
     "execution_count": 109,
     "metadata": {},
     "output_type": "execute_result"
    }
   ],
   "source": [
    "a"
   ]
  },
  {
   "cell_type": "markdown",
   "id": "211770cc",
   "metadata": {},
   "source": [
    "# SLICING"
   ]
  },
  {
   "cell_type": "code",
   "execution_count": 110,
   "id": "14761aa7",
   "metadata": {},
   "outputs": [
    {
     "data": {
      "text/plain": [
       "array([1, 3, 5, 7, 9])"
      ]
     },
     "execution_count": 110,
     "metadata": {},
     "output_type": "execute_result"
    }
   ],
   "source": [
    "a"
   ]
  },
  {
   "cell_type": "code",
   "execution_count": 111,
   "id": "fc3b79cc",
   "metadata": {},
   "outputs": [
    {
     "data": {
      "text/plain": [
       "array([3, 5])"
      ]
     },
     "execution_count": 111,
     "metadata": {},
     "output_type": "execute_result"
    }
   ],
   "source": [
    "a[1:3]"
   ]
  },
  {
   "cell_type": "code",
   "execution_count": 4,
   "id": "c0c5fad0",
   "metadata": {},
   "outputs": [
    {
     "data": {
      "text/plain": [
       "array([[1, 2, 3],\n",
       "       [1, 2, 4],\n",
       "       [7, 8, 9]])"
      ]
     },
     "execution_count": 4,
     "metadata": {},
     "output_type": "execute_result"
    }
   ],
   "source": [
    "import numpy as np\n",
    "a=np.array([[1,2,3],[1,2,4],[7,8,9]])\n",
    "a"
   ]
  },
  {
   "cell_type": "raw",
   "id": "b8693b00",
   "metadata": {},
   "source": [
    "\n",
    "#a[ (indexof row : upto row index+1) ,  start coloumn index :upto column index +1]"
   ]
  },
  {
   "cell_type": "code",
   "execution_count": 5,
   "id": "09dadcee",
   "metadata": {},
   "outputs": [
    {
     "data": {
      "text/plain": [
       "array([[1]])"
      ]
     },
     "execution_count": 5,
     "metadata": {},
     "output_type": "execute_result"
    }
   ],
   "source": [
    "a[0:1,0:1]\n"
   ]
  },
  {
   "cell_type": "code",
   "execution_count": 186,
   "id": "c2295aa8",
   "metadata": {},
   "outputs": [
    {
     "data": {
      "text/plain": [
       "array([[7, 8]])"
      ]
     },
     "execution_count": 186,
     "metadata": {},
     "output_type": "execute_result"
    }
   ],
   "source": [
    "a[2:3,0:2]"
   ]
  },
  {
   "cell_type": "code",
   "execution_count": 187,
   "id": "cf80f59f",
   "metadata": {},
   "outputs": [
    {
     "data": {
      "text/plain": [
       "array([[2, 3],\n",
       "       [2, 4]])"
      ]
     },
     "execution_count": 187,
     "metadata": {},
     "output_type": "execute_result"
    }
   ],
   "source": [
    "a[0:2,1:3]"
   ]
  },
  {
   "cell_type": "code",
   "execution_count": 190,
   "id": "a507408f",
   "metadata": {},
   "outputs": [
    {
     "data": {
      "text/plain": [
       "array([[1, 2],\n",
       "       [7, 8]])"
      ]
     },
     "execution_count": 190,
     "metadata": {},
     "output_type": "execute_result"
    }
   ],
   "source": [
    "\n",
    "a[1:3,0:2]   "
   ]
  },
  {
   "cell_type": "code",
   "execution_count": 147,
   "id": "118b75b2",
   "metadata": {},
   "outputs": [
    {
     "data": {
      "text/plain": [
       "array([[2]])"
      ]
     },
     "execution_count": 147,
     "metadata": {},
     "output_type": "execute_result"
    }
   ],
   "source": [
    "a[1:2,1:2]"
   ]
  },
  {
   "cell_type": "code",
   "execution_count": null,
   "id": "a6f891d3",
   "metadata": {},
   "outputs": [],
   "source": []
  },
  {
   "cell_type": "code",
   "execution_count": 169,
   "id": "f6ad3219",
   "metadata": {},
   "outputs": [],
   "source": [
    "b=np.random.randint(1,12,5)"
   ]
  },
  {
   "cell_type": "code",
   "execution_count": 170,
   "id": "277f16a1",
   "metadata": {},
   "outputs": [
    {
     "data": {
      "text/plain": [
       "array([9, 2, 1, 7, 4])"
      ]
     },
     "execution_count": 170,
     "metadata": {},
     "output_type": "execute_result"
    }
   ],
   "source": [
    "a"
   ]
  },
  {
   "cell_type": "code",
   "execution_count": 171,
   "id": "1f2d726e",
   "metadata": {},
   "outputs": [
    {
     "data": {
      "text/plain": [
       "array([ 7,  6,  5,  1, 11])"
      ]
     },
     "execution_count": 171,
     "metadata": {},
     "output_type": "execute_result"
    }
   ],
   "source": [
    "b"
   ]
  },
  {
   "cell_type": "code",
   "execution_count": 172,
   "id": "c75d115b",
   "metadata": {},
   "outputs": [],
   "source": [
    "c=a+b"
   ]
  },
  {
   "cell_type": "code",
   "execution_count": 173,
   "id": "c8baf04f",
   "metadata": {},
   "outputs": [
    {
     "data": {
      "text/plain": [
       "array([16,  8,  6,  8, 15])"
      ]
     },
     "execution_count": 173,
     "metadata": {},
     "output_type": "execute_result"
    }
   ],
   "source": [
    "c"
   ]
  },
  {
   "cell_type": "code",
   "execution_count": 176,
   "id": "967a4827",
   "metadata": {},
   "outputs": [],
   "source": [
    "c=np.sqrt(a)"
   ]
  },
  {
   "cell_type": "code",
   "execution_count": 177,
   "id": "8bd1e2c3",
   "metadata": {},
   "outputs": [
    {
     "data": {
      "text/plain": [
       "array([3.        , 1.41421356, 1.        , 2.64575131, 2.        ])"
      ]
     },
     "execution_count": 177,
     "metadata": {},
     "output_type": "execute_result"
    }
   ],
   "source": [
    "c"
   ]
  },
  {
   "cell_type": "code",
   "execution_count": 8,
   "id": "6251a937",
   "metadata": {},
   "outputs": [
    {
     "data": {
      "text/plain": [
       "array([ 0,  1,  2,  3,  4,  5,  6,  7,  8,  9, 10, 11, 12, 13, 14, 15, 16,\n",
       "       17, 18, 19, 20, 21, 22, 23, 24])"
      ]
     },
     "execution_count": 8,
     "metadata": {},
     "output_type": "execute_result"
    }
   ],
   "source": [
    "a=np.arange(0,25,1)\n",
    "a"
   ]
  },
  {
   "cell_type": "code",
   "execution_count": 9,
   "id": "9328f633",
   "metadata": {},
   "outputs": [
    {
     "data": {
      "text/plain": [
       "array([[ 0,  1,  2,  3,  4],\n",
       "       [ 5,  6,  7,  8,  9],\n",
       "       [10, 11, 12, 13, 14],\n",
       "       [15, 16, 17, 18, 19],\n",
       "       [20, 21, 22, 23, 24]])"
      ]
     },
     "execution_count": 9,
     "metadata": {},
     "output_type": "execute_result"
    }
   ],
   "source": [
    "a.reshape(5,5)"
   ]
  },
  {
   "cell_type": "code",
   "execution_count": 10,
   "id": "0e3cf3d0",
   "metadata": {},
   "outputs": [
    {
     "data": {
      "text/plain": [
       "array([[ 1,  2,  3,  4,  5],\n",
       "       [ 6,  7,  8,  9, 10],\n",
       "       [11, 12, 13, 14, 15],\n",
       "       [16, 17, 18, 19, 20],\n",
       "       [21, 22, 23, 24, 25]])"
      ]
     },
     "execution_count": 10,
     "metadata": {},
     "output_type": "execute_result"
    }
   ],
   "source": [
    "mat=np.arange(1,26).reshape(5,5)\n",
    "mat\n"
   ]
  },
  {
   "cell_type": "code",
   "execution_count": 4,
   "id": "93207846",
   "metadata": {},
   "outputs": [
    {
     "data": {
      "text/plain": [
       "array([[ 1,  2,  3,  4,  5],\n",
       "       [ 6,  7,  8,  9, 10],\n",
       "       [11, 12, 13, 14, 15],\n",
       "       [16, 17, 18, 19, 20],\n",
       "       [21, 22, 23, 24, 25]])"
      ]
     },
     "execution_count": 4,
     "metadata": {},
     "output_type": "execute_result"
    }
   ],
   "source": [
    "import numpy as np\n",
    "\n",
    "mat=np.arange(1,26).reshape(5,5)\n",
    "mat"
   ]
  },
  {
   "cell_type": "code",
   "execution_count": 12,
   "id": "d20f059d",
   "metadata": {},
   "outputs": [
    {
     "data": {
      "text/plain": [
       "array([[ 1,  2,  3,  4,  5],\n",
       "       [ 6,  7,  8,  9, 10],\n",
       "       [11, 12, 13, 14, 15]])"
      ]
     },
     "execution_count": 12,
     "metadata": {},
     "output_type": "execute_result"
    }
   ],
   "source": [
    "mat[0:3,0:]"
   ]
  },
  {
   "cell_type": "code",
   "execution_count": 13,
   "id": "4303d419",
   "metadata": {},
   "outputs": [
    {
     "data": {
      "text/plain": [
       "2"
      ]
     },
     "execution_count": 13,
     "metadata": {},
     "output_type": "execute_result"
    }
   ],
   "source": [
    "mat.ndim"
   ]
  },
  {
   "cell_type": "code",
   "execution_count": null,
   "id": "a9a35c33",
   "metadata": {},
   "outputs": [],
   "source": []
  }
 ],
 "metadata": {
  "kernelspec": {
   "display_name": "Python 3 (ipykernel)",
   "language": "python",
   "name": "python3"
  },
  "language_info": {
   "codemirror_mode": {
    "name": "ipython",
    "version": 3
   },
   "file_extension": ".py",
   "mimetype": "text/x-python",
   "name": "python",
   "nbconvert_exporter": "python",
   "pygments_lexer": "ipython3",
   "version": "3.9.7"
  }
 },
 "nbformat": 4,
 "nbformat_minor": 5
}
